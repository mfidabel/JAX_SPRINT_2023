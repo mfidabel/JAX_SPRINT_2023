{
  "nbformat": 4,
  "nbformat_minor": 0,
  "metadata": {
    "colab": {
      "provenance": [],
      "gpuType": "T4"
    },
    "kernelspec": {
      "name": "python3",
      "display_name": "Python 3"
    },
    "language_info": {
      "name": "python"
    },
    "accelerator": "GPU",
    "gpuClass": "standard"
  },
  "cells": [
    {
      "cell_type": "markdown",
      "source": [
        "# Segment Anything Image Segmentator"
      ],
      "metadata": {
        "id": "qwJ8GL32rtFE"
      }
    },
    {
      "cell_type": "code",
      "source": [
        "#@title Install requirements {display-mode: \"form\"}\n",
        "!pip install -q gradio git+https://github.com/facebookresearch/segment-anything.git\n",
        "!wget https://dl.fbaipublicfiles.com/segment_anything/sam_vit_h_4b8939.pth"
      ],
      "metadata": {
        "id": "WrPYAzQppZ9b"
      },
      "execution_count": null,
      "outputs": []
    },
    {
      "cell_type": "code",
      "execution_count": 2,
      "metadata": {
        "id": "CAtFLZXrpK_r"
      },
      "outputs": [],
      "source": [
        "#@title Initialize the model {display-mode: \"form\"}\n",
        "from segment_anything import sam_model_registry, SamAutomaticMaskGenerator\n",
        "from PIL import Image\n",
        "import numpy as np\n",
        "import torch\n",
        "import gc\n",
        "\n",
        "sam = sam_model_registry[\"vit_h\"](checkpoint=\"./sam_vit_h_4b8939.pth\")\n",
        "mask_generator = SamAutomaticMaskGenerator(sam)\n",
        "\n",
        "def show_anns(anns):\n",
        "    if len(anns) == 0:\n",
        "        return\n",
        "    sorted_anns = sorted(anns, key=(lambda x: x['area']), reverse=True)\n",
        "    h, w =  anns[0]['segmentation'].shape\n",
        "    final_img = Image.fromarray(np.zeros((h, w, 3), dtype=np.uint8), mode=\"RGB\")\n",
        "    for ann in sorted_anns:\n",
        "        m = ann['segmentation']\n",
        "        img = np.empty((m.shape[0], m.shape[1], 3), dtype=np.uint8)\n",
        "        for i in range(3):\n",
        "            img[:,:,i] = np.random.randint(255, dtype=np.uint8)\n",
        "        final_img.paste(Image.fromarray(img, mode=\"RGB\"), (0, 0), Image.fromarray(np.uint8(m*255)))\n",
        "    \n",
        "    return final_img\n",
        "\n",
        "def segment_image(image):\n",
        "  # Generate Masks\n",
        "  sam.to(\"cuda\")\n",
        "  masks = mask_generator.generate(image)\n",
        "  sam.to(\"cpu\")\n",
        "  torch.cuda.empty_cache()\n",
        "  # Create map\n",
        "  map = show_anns(masks)\n",
        "  del masks\n",
        "  gc.collect()\n",
        "  return map"
      ]
    },
    {
      "cell_type": "code",
      "source": [
        "#@title Run the Segmentator {display-mode: \"form\"}\n",
        "import gradio as gr\n",
        "\n",
        "demo = gr.Interface(\n",
        "    fn=segment_image,\n",
        "    title=\"🙌 Segment Anything\",\n",
        "    description = \"\"\"⬆️ Upload your reference photo here, then click on Send. \\n \\n ⬇️ Download the generated Segmentation Map and use it as the Input for ControlNet Segment Anything\"\"\",\n",
        "    inputs = gr.Image(shape=(512, 512), label = \"Input Image\"),\n",
        "    outputs = gr.Image(shape=(512, 512), label=\"Segmentation Map\"),\n",
        ")\n",
        "\n",
        "demo.launch(debug=True)"
      ],
      "metadata": {
        "colab": {
          "base_uri": "https://localhost:8080/",
          "height": 616
        },
        "id": "KorRhtd8p9yc",
        "outputId": "ed9dde17-ba92-4820-a679-2f16eef29542"
      },
      "execution_count": null,
      "outputs": [
        {
          "output_type": "stream",
          "name": "stdout",
          "text": [
            "Colab notebook detected. This cell will run indefinitely so that you can see errors and logs. To turn off, set debug=False in launch().\n",
            "Note: opening Chrome Inspector may crash demo inside Colab notebooks.\n",
            "\n",
            "To create a public link, set `share=True` in `launch()`.\n"
          ]
        },
        {
          "output_type": "display_data",
          "data": {
            "text/plain": [
              "<IPython.core.display.Javascript object>"
            ],
            "application/javascript": [
              "(async (port, path, width, height, cache, element) => {\n",
              "                        if (!google.colab.kernel.accessAllowed && !cache) {\n",
              "                            return;\n",
              "                        }\n",
              "                        element.appendChild(document.createTextNode(''));\n",
              "                        const url = await google.colab.kernel.proxyPort(port, {cache});\n",
              "\n",
              "                        const external_link = document.createElement('div');\n",
              "                        external_link.innerHTML = `\n",
              "                            <div style=\"font-family: monospace; margin-bottom: 0.5rem\">\n",
              "                                Running on <a href=${new URL(path, url).toString()} target=\"_blank\">\n",
              "                                    https://localhost:${port}${path}\n",
              "                                </a>\n",
              "                            </div>\n",
              "                        `;\n",
              "                        element.appendChild(external_link);\n",
              "\n",
              "                        const iframe = document.createElement('iframe');\n",
              "                        iframe.src = new URL(path, url).toString();\n",
              "                        iframe.height = height;\n",
              "                        iframe.allow = \"autoplay; camera; microphone; clipboard-read; clipboard-write;\"\n",
              "                        iframe.width = width;\n",
              "                        iframe.style.border = 0;\n",
              "                        element.appendChild(iframe);\n",
              "                    })(7860, \"/\", \"100%\", 500, false, window.element)"
            ]
          },
          "metadata": {}
        }
      ]
    }
  ]
}